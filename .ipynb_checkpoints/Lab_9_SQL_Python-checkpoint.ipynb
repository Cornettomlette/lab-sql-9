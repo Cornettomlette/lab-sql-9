{
 "cells": [
  {
   "cell_type": "markdown",
   "metadata": {},
   "source": [
    "## Instructions\n",
    "\n",
    "In this lab, you will be using the [Sakila] (https://dev.mysql.com/doc/sakila/en/) database of movie rentals.\n",
    "\n",
    "We will be trying to predict if a customer will be renting a film this month based on their previous activity and other details. We will first construct a table with:\n",
    "\n",
    "- Customer ID\n",
    "- City\n",
    "- Most rented film category\n",
    "- Total films rented\n",
    "- Total money spent\n",
    "- How many films rented last month\n",
    "\n",
    "and try to predict if he will be renting this month.\n",
    "Use date range (`15/05/2005` - `30/05/2005`) for last month and (`15/06/2005` - `30/06/2005`) for this month."
   ]
  },
  {
   "cell_type": "code",
   "execution_count": 1,
   "metadata": {},
   "outputs": [
    {
     "name": "stdout",
     "output_type": "stream",
     "text": [
      "········\n"
     ]
    }
   ],
   "source": [
    "import sqlalchemy\n",
    "import pymysql\n",
    "from sqlalchemy import create_engine\n",
    "import pandas as pd\n",
    "import getpass # To get the password without showing the input\n",
    "password = getpass.getpass()"
   ]
  },
  {
   "cell_type": "code",
   "execution_count": 2,
   "metadata": {},
   "outputs": [
    {
     "data": {
      "text/plain": [
       "<sqlalchemy.engine.result.ResultProxy at 0x7f7e6f5e46d0>"
      ]
     },
     "execution_count": 2,
     "metadata": {},
     "output_type": "execute_result"
    }
   ],
   "source": [
    "connection_string = 'mysql+pymysql://annamst:' + password + '@localhost/bank'\n",
    "engine = create_engine(connection_string)\n",
    "engine.execute(\"USE sakila\")"
   ]
  },
  {
   "cell_type": "markdown",
   "metadata": {},
   "source": [
    "### Creationq views of all needed queries (in MySQL)"
   ]
  },
  {
   "cell_type": "markdown",
   "metadata": {},
   "source": [
    "CREATE VIEW `customer_city` AS SELECT customer.customer_id, city.city\n",
    "FROM customer\n",
    "INNER JOIN address ON customer.address_id = address.address_id\n",
    "INNER JOIN city ON address.city_id = city.city_id\n",
    "GROUP BY customer.customer_id\n",
    "ORDER BY customer.customer_id;\n",
    "\n",
    "CREATE VIEW `most_rented_category` AS SELECT customer_id, category_name FROM \n",
    "(SELECT rental.customer_id as customer_id, count(rental.rental_id) as total_rentals, film_category.category_id, category.name as category_name,\n",
    "row_number() over (partition by rental.customer_id order by count(rental.rental_id) desc) as ranking_max_rented_category \n",
    "FROM rental\n",
    "INNER JOIN inventory ON rental.inventory_id = inventory.inventory_id\n",
    "INNER JOIN film_category ON inventory.film_id = film_category.film_id\n",
    "INNER JOIN category ON film_category.category_id = category.category_id\n",
    "GROUP BY rental.customer_id, film_category.category_id, category.name) AS table_popular_category\n",
    "WHERE ranking_max_rented_category = 1\n",
    "ORDER BY customer_id;\n",
    "\n",
    "\n",
    "CREATE VIEW `total_rented` AS SELECT customer.customer_id, count(rental_id) as total_rented\n",
    "FROM customer\n",
    "INNER JOIN rental ON customer.customer_id = rental.customer_id\n",
    "GROUP BY customer.customer_id\n",
    "ORDER BY customer.customer_id; \n",
    " \n",
    " \n",
    "CREATE VIEW `total_money_spent` AS SELECT customer_id, sum(amount) AS amount_spent FROM payment\n",
    "GROUP BY customer_id;  \n",
    "\n",
    "CREATE VIEW `films_rented_last_m` AS SELECT customer.customer_id, count(rental_id) as films_rented_last_month from rental\n",
    "RIGHT OUTER JOIN customer ON \n",
    "\trental.customer_id = customer.customer_id and rental_date >= 20050515 and rental_date <= 20050530\n",
    "GROUP BY customer_id\n",
    "ORDER BY customer_id;\n",
    "\n",
    "CREATE VIEW `will_rent_or_not` AS SELECT customer.customer_id, CASE\n",
    "WHEN count(rental_id) > 0 THEN 'YES'\n",
    "ELSE 'NO'\n",
    "END AS 'rental_made_or_not'\n",
    "from rental\n",
    "RIGHT OUTER JOIN customer ON \n",
    "rental.customer_id = customer.customer_id AND rental_date >= 20050615 and rental_date <= 20050630\n",
    "GROUP BY customer_id\n",
    "ORDER BY customer_id;"
   ]
  },
  {
   "cell_type": "markdown",
   "metadata": {},
   "source": [
    "### Creating a table with all needed data from queries"
   ]
  },
  {
   "cell_type": "code",
   "execution_count": 3,
   "metadata": {},
   "outputs": [
    {
     "data": {
      "text/html": [
       "<div>\n",
       "<style scoped>\n",
       "    .dataframe tbody tr th:only-of-type {\n",
       "        vertical-align: middle;\n",
       "    }\n",
       "\n",
       "    .dataframe tbody tr th {\n",
       "        vertical-align: top;\n",
       "    }\n",
       "\n",
       "    .dataframe thead th {\n",
       "        text-align: right;\n",
       "    }\n",
       "</style>\n",
       "<table border=\"1\" class=\"dataframe\">\n",
       "  <thead>\n",
       "    <tr style=\"text-align: right;\">\n",
       "      <th></th>\n",
       "      <th>customer_id</th>\n",
       "      <th>city</th>\n",
       "      <th>category_name</th>\n",
       "      <th>total_rented</th>\n",
       "      <th>amount_spent</th>\n",
       "      <th>films_rented_last_month</th>\n",
       "      <th>rental_made_or_not</th>\n",
       "    </tr>\n",
       "  </thead>\n",
       "  <tbody>\n",
       "    <tr>\n",
       "      <th>0</th>\n",
       "      <td>1</td>\n",
       "      <td>Sasebo</td>\n",
       "      <td>Classics</td>\n",
       "      <td>32</td>\n",
       "      <td>118.68</td>\n",
       "      <td>2</td>\n",
       "      <td>YES</td>\n",
       "    </tr>\n",
       "    <tr>\n",
       "      <th>1</th>\n",
       "      <td>2</td>\n",
       "      <td>San Bernardino</td>\n",
       "      <td>Sports</td>\n",
       "      <td>27</td>\n",
       "      <td>128.73</td>\n",
       "      <td>1</td>\n",
       "      <td>YES</td>\n",
       "    </tr>\n",
       "    <tr>\n",
       "      <th>2</th>\n",
       "      <td>3</td>\n",
       "      <td>Athenai</td>\n",
       "      <td>Action</td>\n",
       "      <td>26</td>\n",
       "      <td>135.74</td>\n",
       "      <td>2</td>\n",
       "      <td>YES</td>\n",
       "    </tr>\n",
       "    <tr>\n",
       "      <th>3</th>\n",
       "      <td>4</td>\n",
       "      <td>Myingyan</td>\n",
       "      <td>Horror</td>\n",
       "      <td>22</td>\n",
       "      <td>81.78</td>\n",
       "      <td>0</td>\n",
       "      <td>YES</td>\n",
       "    </tr>\n",
       "    <tr>\n",
       "      <th>4</th>\n",
       "      <td>5</td>\n",
       "      <td>Nantou</td>\n",
       "      <td>Classics</td>\n",
       "      <td>38</td>\n",
       "      <td>144.62</td>\n",
       "      <td>1</td>\n",
       "      <td>YES</td>\n",
       "    </tr>\n",
       "  </tbody>\n",
       "</table>\n",
       "</div>"
      ],
      "text/plain": [
       "   customer_id            city category_name  total_rented  amount_spent  \\\n",
       "0            1          Sasebo      Classics            32        118.68   \n",
       "1            2  San Bernardino        Sports            27        128.73   \n",
       "2            3         Athenai        Action            26        135.74   \n",
       "3            4        Myingyan        Horror            22         81.78   \n",
       "4            5          Nantou      Classics            38        144.62   \n",
       "\n",
       "   films_rented_last_month rental_made_or_not  \n",
       "0                        2                YES  \n",
       "1                        1                YES  \n",
       "2                        2                YES  \n",
       "3                        0                YES  \n",
       "4                        1                YES  "
      ]
     },
     "metadata": {},
     "output_type": "display_data"
    }
   ],
   "source": [
    "query_full = \"SELECT customer_city.customer_id, city, category_name, total_rented, amount_spent, \\\n",
    "films_rented_last_month, rental_made_or_not \\\n",
    "FROM customer_city \\\n",
    "JOIN most_rented_category ON customer_city.customer_id = most_rented_category.customer_id \\\n",
    "JOIN total_rented ON total_rented.customer_id = most_rented_category.customer_id \\\n",
    "JOIN total_money_spent ON total_rented.customer_id = total_money_spent.customer_id \\\n",
    "JOIN films_rented_last_m ON total_money_spent.customer_id = films_rented_last_m.customer_id \\\n",
    "JOIN will_rent_or_not ON films_rented_last_m.customer_id = will_rent_or_not.customer_id;\"\n",
    "data_full = pd.read_sql_query(query_full, engine)\n",
    "display(data_full.head())"
   ]
  },
  {
   "cell_type": "markdown",
   "metadata": {},
   "source": [
    "## Data exploration"
   ]
  },
  {
   "cell_type": "code",
   "execution_count": 4,
   "metadata": {},
   "outputs": [],
   "source": [
    "import matplotlib\n",
    "import matplotlib.pyplot as plt\n",
    "import seaborn as sns\n",
    "import numpy as np\n",
    "sns.set_theme(style=\"whitegrid\")"
   ]
  },
  {
   "cell_type": "markdown",
   "metadata": {},
   "source": [
    "### Knowing the shape and the column types of your dataframe"
   ]
  },
  {
   "cell_type": "code",
   "execution_count": 5,
   "metadata": {},
   "outputs": [
    {
     "name": "stdout",
     "output_type": "stream",
     "text": [
      "The dataframe has 584 rows and 7 columns\n",
      "\n",
      "The data types of each column of the dataframe are:\n",
      "customer_id                  int64\n",
      "city                        object\n",
      "category_name               object\n",
      "total_rented                 int64\n",
      "amount_spent               float64\n",
      "films_rented_last_month      int64\n",
      "rental_made_or_not          object\n",
      "dtype: object\n",
      "\n"
     ]
    }
   ],
   "source": [
    "print(\"The dataframe has {} rows and {} columns\".format(data_full.shape[0],data_full.shape[1]))\n",
    "print()\n",
    "\n",
    "print(\"The data types of each column of the dataframe are:\")\n",
    "print(data_full.dtypes)\n",
    "print()"
   ]
  },
  {
   "cell_type": "markdown",
   "metadata": {},
   "source": [
    "### Getting basic statistical summary of the numerical columns"
   ]
  },
  {
   "cell_type": "code",
   "execution_count": 6,
   "metadata": {},
   "outputs": [],
   "source": [
    "# Dropping the unique \"customer_id\" column\n",
    "data_full = data_full.drop(columns = 'customer_id')"
   ]
  },
  {
   "cell_type": "code",
   "execution_count": 7,
   "metadata": {
    "scrolled": true
   },
   "outputs": [
    {
     "data": {
      "text/html": [
       "<div>\n",
       "<style scoped>\n",
       "    .dataframe tbody tr th:only-of-type {\n",
       "        vertical-align: middle;\n",
       "    }\n",
       "\n",
       "    .dataframe tbody tr th {\n",
       "        vertical-align: top;\n",
       "    }\n",
       "\n",
       "    .dataframe thead th {\n",
       "        text-align: right;\n",
       "    }\n",
       "</style>\n",
       "<table border=\"1\" class=\"dataframe\">\n",
       "  <thead>\n",
       "    <tr style=\"text-align: right;\">\n",
       "      <th></th>\n",
       "      <th>total_rented</th>\n",
       "      <th>amount_spent</th>\n",
       "      <th>films_rented_last_month</th>\n",
       "    </tr>\n",
       "  </thead>\n",
       "  <tbody>\n",
       "    <tr>\n",
       "      <th>count</th>\n",
       "      <td>584.000000</td>\n",
       "      <td>584.000000</td>\n",
       "      <td>584.000000</td>\n",
       "    </tr>\n",
       "    <tr>\n",
       "      <th>mean</th>\n",
       "      <td>26.782534</td>\n",
       "      <td>112.593425</td>\n",
       "      <td>1.395548</td>\n",
       "    </tr>\n",
       "    <tr>\n",
       "      <th>std</th>\n",
       "      <td>5.091846</td>\n",
       "      <td>25.398618</td>\n",
       "      <td>1.200077</td>\n",
       "    </tr>\n",
       "    <tr>\n",
       "      <th>min</th>\n",
       "      <td>12.000000</td>\n",
       "      <td>50.850000</td>\n",
       "      <td>0.000000</td>\n",
       "    </tr>\n",
       "    <tr>\n",
       "      <th>25%</th>\n",
       "      <td>23.000000</td>\n",
       "      <td>94.787500</td>\n",
       "      <td>0.000000</td>\n",
       "    </tr>\n",
       "    <tr>\n",
       "      <th>50%</th>\n",
       "      <td>26.000000</td>\n",
       "      <td>110.725000</td>\n",
       "      <td>1.000000</td>\n",
       "    </tr>\n",
       "    <tr>\n",
       "      <th>75%</th>\n",
       "      <td>30.000000</td>\n",
       "      <td>128.712500</td>\n",
       "      <td>2.000000</td>\n",
       "    </tr>\n",
       "    <tr>\n",
       "      <th>max</th>\n",
       "      <td>46.000000</td>\n",
       "      <td>221.550000</td>\n",
       "      <td>6.000000</td>\n",
       "    </tr>\n",
       "  </tbody>\n",
       "</table>\n",
       "</div>"
      ],
      "text/plain": [
       "       total_rented  amount_spent  films_rented_last_month\n",
       "count    584.000000    584.000000               584.000000\n",
       "mean      26.782534    112.593425                 1.395548\n",
       "std        5.091846     25.398618                 1.200077\n",
       "min       12.000000     50.850000                 0.000000\n",
       "25%       23.000000     94.787500                 0.000000\n",
       "50%       26.000000    110.725000                 1.000000\n",
       "75%       30.000000    128.712500                 2.000000\n",
       "max       46.000000    221.550000                 6.000000"
      ]
     },
     "execution_count": 7,
     "metadata": {},
     "output_type": "execute_result"
    }
   ],
   "source": [
    "data_full.describe()"
   ]
  },
  {
   "cell_type": "markdown",
   "metadata": {},
   "source": [
    "### Looking for NA's"
   ]
  },
  {
   "cell_type": "code",
   "execution_count": 8,
   "metadata": {},
   "outputs": [
    {
     "name": "stdout",
     "output_type": "stream",
     "text": [
      "The number of NA's in the dataframe is: \n",
      "city                       0\n",
      "category_name              0\n",
      "total_rented               0\n",
      "amount_spent               0\n",
      "films_rented_last_month    0\n",
      "rental_made_or_not         0\n",
      "dtype: int64\n",
      "\n"
     ]
    }
   ],
   "source": [
    "print(\"The number of NA's in the dataframe is: \")\n",
    "print(data_full.isna().sum())\n",
    "print()"
   ]
  },
  {
   "cell_type": "markdown",
   "metadata": {},
   "source": [
    "## Categorical columns"
   ]
  },
  {
   "cell_type": "code",
   "execution_count": 10,
   "metadata": {},
   "outputs": [],
   "source": [
    "# Counts of unique values in each categorical column"
   ]
  },
  {
   "cell_type": "code",
   "execution_count": 11,
   "metadata": {},
   "outputs": [
    {
     "data": {
      "text/plain": [
       "city                  582\n",
       "category_name          16\n",
       "rental_made_or_not      2\n",
       "dtype: int64"
      ]
     },
     "metadata": {},
     "output_type": "display_data"
    }
   ],
   "source": [
    "objects = list(data_full.select_dtypes(object).columns)\n",
    "display(data_full[objects].nunique())"
   ]
  },
  {
   "cell_type": "markdown",
   "metadata": {},
   "source": [
    "#### Column \"City\" has too many unique values for the dummificatiom, so it is better to drop that column."
   ]
  },
  {
   "cell_type": "code",
   "execution_count": 12,
   "metadata": {},
   "outputs": [],
   "source": [
    "data_full = data_full.drop(columns = 'city')"
   ]
  },
  {
   "cell_type": "code",
   "execution_count": 13,
   "metadata": {},
   "outputs": [
    {
     "name": "stdout",
     "output_type": "stream",
     "text": [
      "The categorical columns are:  ['category_name', 'rental_made_or_not']\n",
      "========================================\n",
      "\n",
      "Frequency analysis of column:  category_name\n",
      "\n",
      "Frequency analysis of column:  rental_made_or_not\n",
      "\n"
     ]
    },
    {
     "data": {
      "image/png": "[encoded data removed]",
      "text/plain": [
       "<Figure size 432x288 with 1 Axes>"
      ]
     },
     "metadata": {},
     "output_type": "display_data"
    },
    {
     "data": {
      "image/png": "[encoded data removed]",
      "text/plain": [
       "<Figure size 432x288 with 1 Axes>"
      ]
     },
     "metadata": {},
     "output_type": "display_data"
    },
    {
     "data": {
      "text/plain": [
       "<Figure size 432x288 with 0 Axes>"
      ]
     },
     "metadata": {},
     "output_type": "display_data"
    }
   ],
   "source": [
    "# Checking all the categorical columns\n",
    "cols_cat = list(data_full.select_dtypes(include=['object']).columns)\n",
    "\n",
    "print(\"The categorical columns are: \",cols_cat)\n",
    "print(\"========================================\")\n",
    "print()\n",
    "\n",
    "for col in cols_cat:\n",
    "    print(\"Frequency analysis of column: \",col)\n",
    "    my_data = data_full[col].value_counts().reset_index()\n",
    "    ax = sns.barplot(x=col, y=\"index\", data = my_data).set_title(col.upper())\n",
    "    plt.figure()\n",
    "    print()"
   ]
  },
  {
   "cell_type": "markdown",
   "metadata": {},
   "source": [
    "### Dummifying categorical columns"
   ]
  },
  {
   "cell_type": "code",
   "execution_count": 17,
   "metadata": {},
   "outputs": [
    {
     "data": {
      "text/html": [
       "<div>\n",
       "<style scoped>\n",
       "    .dataframe tbody tr th:only-of-type {\n",
       "        vertical-align: middle;\n",
       "    }\n",
       "\n",
       "    .dataframe tbody tr th {\n",
       "        vertical-align: top;\n",
       "    }\n",
       "\n",
       "    .dataframe thead th {\n",
       "        text-align: right;\n",
       "    }\n",
       "</style>\n",
       "<table border=\"1\" class=\"dataframe\">\n",
       "  <thead>\n",
       "    <tr style=\"text-align: right;\">\n",
       "      <th></th>\n",
       "      <th>category_name_Action</th>\n",
       "      <th>category_name_Animation</th>\n",
       "      <th>category_name_Children</th>\n",
       "      <th>category_name_Classics</th>\n",
       "      <th>category_name_Comedy</th>\n",
       "      <th>category_name_Documentary</th>\n",
       "      <th>category_name_Drama</th>\n",
       "      <th>category_name_Family</th>\n",
       "      <th>category_name_Foreign</th>\n",
       "      <th>category_name_Games</th>\n",
       "      <th>category_name_Horror</th>\n",
       "      <th>category_name_Music</th>\n",
       "      <th>category_name_New</th>\n",
       "      <th>category_name_Sci-Fi</th>\n",
       "      <th>category_name_Sports</th>\n",
       "      <th>category_name_Travel</th>\n",
       "    </tr>\n",
       "  </thead>\n",
       "  <tbody>\n",
       "    <tr>\n",
       "      <th>0</th>\n",
       "      <td>0</td>\n",
       "      <td>0</td>\n",
       "      <td>0</td>\n",
       "      <td>1</td>\n",
       "      <td>0</td>\n",
       "      <td>0</td>\n",
       "      <td>0</td>\n",
       "      <td>0</td>\n",
       "      <td>0</td>\n",
       "      <td>0</td>\n",
       "      <td>0</td>\n",
       "      <td>0</td>\n",
       "      <td>0</td>\n",
       "      <td>0</td>\n",
       "      <td>0</td>\n",
       "      <td>0</td>\n",
       "    </tr>\n",
       "    <tr>\n",
       "      <th>1</th>\n",
       "      <td>0</td>\n",
       "      <td>0</td>\n",
       "      <td>0</td>\n",
       "      <td>0</td>\n",
       "      <td>0</td>\n",
       "      <td>0</td>\n",
       "      <td>0</td>\n",
       "      <td>0</td>\n",
       "      <td>0</td>\n",
       "      <td>0</td>\n",
       "      <td>0</td>\n",
       "      <td>0</td>\n",
       "      <td>0</td>\n",
       "      <td>0</td>\n",
       "      <td>1</td>\n",
       "      <td>0</td>\n",
       "    </tr>\n",
       "    <tr>\n",
       "      <th>2</th>\n",
       "      <td>1</td>\n",
       "      <td>0</td>\n",
       "      <td>0</td>\n",
       "      <td>0</td>\n",
       "      <td>0</td>\n",
       "      <td>0</td>\n",
       "      <td>0</td>\n",
       "      <td>0</td>\n",
       "      <td>0</td>\n",
       "      <td>0</td>\n",
       "      <td>0</td>\n",
       "      <td>0</td>\n",
       "      <td>0</td>\n",
       "      <td>0</td>\n",
       "      <td>0</td>\n",
       "      <td>0</td>\n",
       "    </tr>\n",
       "    <tr>\n",
       "      <th>3</th>\n",
       "      <td>0</td>\n",
       "      <td>0</td>\n",
       "      <td>0</td>\n",
       "      <td>0</td>\n",
       "      <td>0</td>\n",
       "      <td>0</td>\n",
       "      <td>0</td>\n",
       "      <td>0</td>\n",
       "      <td>0</td>\n",
       "      <td>0</td>\n",
       "      <td>1</td>\n",
       "      <td>0</td>\n",
       "      <td>0</td>\n",
       "      <td>0</td>\n",
       "      <td>0</td>\n",
       "      <td>0</td>\n",
       "    </tr>\n",
       "    <tr>\n",
       "      <th>4</th>\n",
       "      <td>0</td>\n",
       "      <td>0</td>\n",
       "      <td>0</td>\n",
       "      <td>1</td>\n",
       "      <td>0</td>\n",
       "      <td>0</td>\n",
       "      <td>0</td>\n",
       "      <td>0</td>\n",
       "      <td>0</td>\n",
       "      <td>0</td>\n",
       "      <td>0</td>\n",
       "      <td>0</td>\n",
       "      <td>0</td>\n",
       "      <td>0</td>\n",
       "      <td>0</td>\n",
       "      <td>0</td>\n",
       "    </tr>\n",
       "  </tbody>\n",
       "</table>\n",
       "</div>"
      ],
      "text/plain": [
       "   category_name_Action  category_name_Animation  category_name_Children  \\\n",
       "0                     0                        0                       0   \n",
       "1                     0                        0                       0   \n",
       "2                     1                        0                       0   \n",
       "3                     0                        0                       0   \n",
       "4                     0                        0                       0   \n",
       "\n",
       "   category_name_Classics  category_name_Comedy  category_name_Documentary  \\\n",
       "0                       1                     0                          0   \n",
       "1                       0                     0                          0   \n",
       "2                       0                     0                          0   \n",
       "3                       0                     0                          0   \n",
       "4                       1                     0                          0   \n",
       "\n",
       "   category_name_Drama  category_name_Family  category_name_Foreign  \\\n",
       "0                    0                     0                      0   \n",
       "1                    0                     0                      0   \n",
       "2                    0                     0                      0   \n",
       "3                    0                     0                      0   \n",
       "4                    0                     0                      0   \n",
       "\n",
       "   category_name_Games  category_name_Horror  category_name_Music  \\\n",
       "0                    0                     0                    0   \n",
       "1                    0                     0                    0   \n",
       "2                    0                     0                    0   \n",
       "3                    0                     1                    0   \n",
       "4                    0                     0                    0   \n",
       "\n",
       "   category_name_New  category_name_Sci-Fi  category_name_Sports  \\\n",
       "0                  0                     0                     0   \n",
       "1                  0                     0                     1   \n",
       "2                  0                     0                     0   \n",
       "3                  0                     0                     0   \n",
       "4                  0                     0                     0   \n",
       "\n",
       "   category_name_Travel  \n",
       "0                     0  \n",
       "1                     0  \n",
       "2                     0  \n",
       "3                     0  \n",
       "4                     0  "
      ]
     },
     "metadata": {},
     "output_type": "display_data"
    },
    {
     "data": {
      "text/plain": [
       "(584, 16)"
      ]
     },
     "metadata": {},
     "output_type": "display_data"
    }
   ],
   "source": [
    "cat = data_full.select_dtypes(include = np.object)\n",
    "cat = cat.drop(['rental_made_or_not'], axis=1)\n",
    "objects_dummyfied = pd.get_dummies(cat)\n",
    "display(objects_dummyfied.head())\n",
    "display(objects_dummyfied.shape)"
   ]
  },
  {
   "cell_type": "markdown",
   "metadata": {},
   "source": [
    "## Numerical columns"
   ]
  },
  {
   "cell_type": "markdown",
   "metadata": {},
   "source": [
    "### Checking for multicollinearity"
   ]
  },
  {
   "cell_type": "code",
   "execution_count": 15,
   "metadata": {},
   "outputs": [
    {
     "data": {
      "image/png": "[encoded data removed]",
      "text/plain": [
       "<Figure size 720x576 with 2 Axes>"
      ]
     },
     "metadata": {},
     "output_type": "display_data"
    }
   ],
   "source": [
    "corr_matrix=data_full.corr(method='pearson')  # default\n",
    "fig, ax = plt.subplots(figsize=(10, 8))\n",
    "ax = sns.heatmap(corr_matrix, annot=True)\n",
    "plt.show()\n",
    "# Multicollinearity is not a problem in a logistic model"
   ]
  },
  {
   "cell_type": "markdown",
   "metadata": {},
   "source": [
    "### Getting distributions of numericals"
   ]
  },
  {
   "cell_type": "code",
   "execution_count": 16,
   "metadata": {},
   "outputs": [
    {
     "data": {
      "image/png": "[encoded data removed]",
      "text/plain": [
       "<Figure size 360x360 with 1 Axes>"
      ]
     },
     "metadata": {},
     "output_type": "display_data"
    },
    {
     "data": {
      "image/png": "[encoded data removed]",
      "text/plain": [
       "<Figure size 360x360 with 1 Axes>"
      ]
     },
     "metadata": {},
     "output_type": "display_data"
    },
    {
     "data": {
      "image/png": "[encoded data removed]",
      "text/plain": [
       "<Figure size 360x360 with 1 Axes>"
      ]
     },
     "metadata": {},
     "output_type": "display_data"
    }
   ],
   "source": [
    "numcols = data_full.select_dtypes(np.number)\n",
    "numbers_col = list(numcols.columns)\n",
    "for col in numcols:\n",
    "    sns.displot(numcols, x = col)\n",
    "    plt.show()"
   ]
  },
  {
   "cell_type": "markdown",
   "metadata": {},
   "source": [
    "#### The data looks normally distributed, do we will use that data to train a model without transformations."
   ]
  },
  {
   "cell_type": "markdown",
   "metadata": {},
   "source": [
    "### Concatenating numerical and categorical variables to get a full set of independent values."
   ]
  },
  {
   "cell_type": "code",
   "execution_count": 20,
   "metadata": {},
   "outputs": [],
   "source": [
    "x_independent = pd.concat([objects_dummyfied, numcols], axis = 1)"
   ]
  },
  {
   "cell_type": "markdown",
   "metadata": {},
   "source": [
    "### Dependent value - will customer rent a movie this month or not"
   ]
  },
  {
   "cell_type": "code",
   "execution_count": 27,
   "metadata": {},
   "outputs": [
    {
     "data": {
      "text/plain": [
       "0    YES\n",
       "1    YES\n",
       "2    YES\n",
       "3    YES\n",
       "4    YES\n",
       "Name: rental_made_or_not, dtype: object"
      ]
     },
     "execution_count": 27,
     "metadata": {},
     "output_type": "execute_result"
    }
   ],
   "source": [
    "y_dependent = data_full.rental_made_or_not\n",
    "y_dependent.head()\n",
    "#y_dependent = pd.DataFrame(data_full.rental_made_or_not)"
   ]
  },
  {
   "cell_type": "markdown",
   "metadata": {},
   "source": [
    "### Splitting into train set and test set."
   ]
  },
  {
   "cell_type": "code",
   "execution_count": 32,
   "metadata": {},
   "outputs": [],
   "source": [
    "from sklearn.model_selection import train_test_split\n",
    "\n",
    "X_train, X_test, y_train, y_test = train_test_split(x_independent, y_dependent, test_size=0.4, random_state=100)"
   ]
  },
  {
   "cell_type": "markdown",
   "metadata": {},
   "source": [
    "# Modeling and Model Validation"
   ]
  },
  {
   "cell_type": "code",
   "execution_count": 33,
   "metadata": {},
   "outputs": [],
   "source": [
    "from sklearn.linear_model import LogisticRegression\n",
    "\n",
    "classification = LogisticRegression(random_state=0, solver='lbfgs',\n",
    "                  multi_class='ovr').fit(X_train, y_train)"
   ]
  },
  {
   "cell_type": "code",
   "execution_count": 34,
   "metadata": {},
   "outputs": [],
   "source": [
    "from sklearn.metrics import accuracy_score\n",
    "\n",
    "predictions = classification.predict(X_test)"
   ]
  },
  {
   "cell_type": "code",
   "execution_count": 35,
   "metadata": {},
   "outputs": [
    {
     "name": "stdout",
     "output_type": "stream",
     "text": [
      "The accuracy of the model on test set is: 0.98 \n",
      "[[  0   4]\n",
      " [  0 230]]\n"
     ]
    },
    {
     "data": {
      "image/png": "[encoded data removed]",
      "text/plain": [
       "<Figure size 432x288 with 2 Axes>"
      ]
     },
     "metadata": {},
     "output_type": "display_data"
    },
    {
     "name": "stdout",
     "output_type": "stream",
     "text": [
      "The Kappa of your model is: 0.00\n"
     ]
    }
   ],
   "source": [
    "from sklearn.metrics import confusion_matrix\n",
    "from sklearn.metrics import plot_confusion_matrix\n",
    "from sklearn.metrics import cohen_kappa_score\n",
    "\n",
    "print(\"The accuracy of the model on test set is: %4.2f \" % accuracy_score(y_test, predictions))\n",
    "print(confusion_matrix(y_test, predictions))\n",
    "plot_confusion_matrix(classification, X_test, y_test)  # doctest: +SKIP\n",
    "plt.show()  # doctest: +SKIP\n",
    "print(\"The Kappa of your model is: %4.2f\" % (cohen_kappa_score(y_test, predictions)))"
   ]
  },
  {
   "cell_type": "markdown",
   "metadata": {},
   "source": [
    "## Conclusions\n",
    "\n",
    "The data set between proposed dates contained way too unbalanced ratio of `YES` to `NO` labels - __575:9__ - only 1.5% of `NO` values\n",
    "\n",
    "Therefore, even though the accuracy is high (98%) - the model has never correcly predicted a `NO` value."
   ]
  }
 ],
 "metadata": {
  "kernelspec": {
   "display_name": "Python 3",
   "language": "python",
   "name": "python3"
  },
  "language_info": {
   "codemirror_mode": {
    "name": "ipython",
    "version": 3
   },
   "file_extension": ".py",
   "mimetype": "text/x-python",
   "name": "python",
   "nbconvert_exporter": "python",
   "pygments_lexer": "ipython3",
   "version": "3.8.2"
  }
 },
 "nbformat": 4,
 "nbformat_minor": 4
}
